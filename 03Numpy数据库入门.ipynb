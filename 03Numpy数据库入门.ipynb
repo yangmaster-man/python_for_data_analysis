{
 "cells": [
  {
   "cell_type": "code",
   "execution_count": 2,
   "id": "41a86df2",
   "metadata": {},
   "outputs": [],
   "source": [
    "import numpy as np"
   ]
  },
  {
   "cell_type": "markdown",
   "id": "1645667e",
   "metadata": {},
   "source": [
    "创建数组：一维、二维,——看最左边几个方括号"
   ]
  },
  {
   "cell_type": "code",
   "execution_count": 5,
   "id": "5cd4c9ad",
   "metadata": {},
   "outputs": [],
   "source": [
    "arr1=np.array([1,2,3])"
   ]
  },
  {
   "cell_type": "code",
   "execution_count": 6,
   "id": "3800dbdc",
   "metadata": {},
   "outputs": [],
   "source": [
    "arr2=np.array([[1,2,3],[4,5,6]])"
   ]
  },
  {
   "cell_type": "markdown",
   "id": "50da274c",
   "metadata": {},
   "source": [
    "一般来说，数组内数据类型保持统一，否则强制转换为字符串"
   ]
  },
  {
   "cell_type": "code",
   "execution_count": 7,
   "id": "c50932f5",
   "metadata": {},
   "outputs": [
    {
     "data": {
      "text/plain": [
       "array(['1', '2', 'True', 'hello'], dtype='<U11')"
      ]
     },
     "execution_count": 7,
     "metadata": {},
     "output_type": "execute_result"
    }
   ],
   "source": [
    "np.array([1,2,True,\"hello\"])"
   ]
  },
  {
   "cell_type": "markdown",
   "id": "04799a22",
   "metadata": {},
   "source": [
    "数组属性：ndim—数组维度；shape—各个维度的元素个数；size-数组元素的总个数；dtype-元素的类型和长度"
   ]
  },
  {
   "cell_type": "code",
   "execution_count": 8,
   "id": "9c4dd3a4",
   "metadata": {},
   "outputs": [
    {
     "name": "stdout",
     "output_type": "stream",
     "text": [
      "1\n",
      "2\n"
     ]
    }
   ],
   "source": [
    "print(arr1.ndim)\n",
    "print(arr2.ndim)"
   ]
  },
  {
   "cell_type": "code",
   "execution_count": 9,
   "id": "2588e19e",
   "metadata": {},
   "outputs": [
    {
     "name": "stdout",
     "output_type": "stream",
     "text": [
      "(3,)\n",
      "(2, 3)\n"
     ]
    }
   ],
   "source": [
    "print(arr1.shape)\n",
    "print(arr2.shape)"
   ]
  },
  {
   "cell_type": "markdown",
   "id": "9eabad28",
   "metadata": {},
   "source": [
    "即第一个维度有两个数组，第二个维度有三个数组"
   ]
  },
  {
   "cell_type": "code",
   "execution_count": 10,
   "id": "76353323",
   "metadata": {},
   "outputs": [
    {
     "name": "stdout",
     "output_type": "stream",
     "text": [
      "3\n",
      "6\n"
     ]
    }
   ],
   "source": [
    "print(arr1.size)\n",
    "print(arr2.size)"
   ]
  },
  {
   "cell_type": "code",
   "execution_count": 11,
   "id": "aa7c0d15",
   "metadata": {},
   "outputs": [
    {
     "name": "stdout",
     "output_type": "stream",
     "text": [
      "int32\n",
      "int32\n"
     ]
    }
   ],
   "source": [
    "print(arr1.dtype)\n",
    "print(arr2.dtype)"
   ]
  },
  {
   "cell_type": "markdown",
   "id": "2a4ab744",
   "metadata": {},
   "source": [
    "int -整数，32-比特长度"
   ]
  },
  {
   "cell_type": "markdown",
   "id": "d6247d2b",
   "metadata": {},
   "source": [
    "除了手动输入数组方法，还提供其他一些创造数组方法：zeros方法(创建长度为X，元素都为0的数组) ；ones;**arange(类似python的range)——针对array的range方法**"
   ]
  },
  {
   "cell_type": "code",
   "execution_count": 3,
   "id": "56c19336",
   "metadata": {},
   "outputs": [
    {
     "data": {
      "text/plain": [
       "array([0., 0., 0.])"
      ]
     },
     "execution_count": 3,
     "metadata": {},
     "output_type": "execute_result"
    }
   ],
   "source": [
    "np.zeros(3)"
   ]
  },
  {
   "cell_type": "code",
   "execution_count": 4,
   "id": "f9edfda9",
   "metadata": {},
   "outputs": [
    {
     "data": {
      "text/plain": [
       "array([1., 1.])"
      ]
     },
     "execution_count": 4,
     "metadata": {},
     "output_type": "execute_result"
    }
   ],
   "source": [
    "np.ones(2)"
   ]
  },
  {
   "cell_type": "markdown",
   "id": "a1385828",
   "metadata": {},
   "source": [
    "**arange(起始值，结束值，步长)** 同range一样,建立一个元素数组"
   ]
  },
  {
   "cell_type": "code",
   "execution_count": 5,
   "id": "38b5ca98",
   "metadata": {},
   "outputs": [
    {
     "data": {
      "text/plain": [
       "array([1, 3, 5, 7, 9])"
      ]
     },
     "execution_count": 5,
     "metadata": {},
     "output_type": "execute_result"
    }
   ],
   "source": [
    "np.arange(1,10,2)"
   ]
  },
  {
   "cell_type": "code",
   "execution_count": null,
   "id": "463aed5d",
   "metadata": {},
   "outputs": [],
   "source": []
  }
 ],
 "metadata": {
  "kernelspec": {
   "display_name": "Python 3 (ipykernel)",
   "language": "python",
   "name": "python3"
  },
  "language_info": {
   "codemirror_mode": {
    "name": "ipython",
    "version": 3
   },
   "file_extension": ".py",
   "mimetype": "text/x-python",
   "name": "python",
   "nbconvert_exporter": "python",
   "pygments_lexer": "ipython3",
   "version": "3.11.5"
  }
 },
 "nbformat": 4,
 "nbformat_minor": 5
}

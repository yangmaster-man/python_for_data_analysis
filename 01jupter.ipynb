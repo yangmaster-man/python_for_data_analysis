{
 "cells": [
  {
   "cell_type": "markdown",
   "id": "f967b104",
   "metadata": {},
   "source": [
    "### jupyter notebook 的打开和关闭 "
   ]
  },
  {
   "cell_type": "code",
   "execution_count": 1,
   "id": "8ef512c3",
   "metadata": {},
   "outputs": [
    {
     "name": "stdout",
     "output_type": "stream",
     "text": [
      "hello world!\n"
     ]
    }
   ],
   "source": [
    "print(\"hello world!\")"
   ]
  },
  {
   "cell_type": "code",
   "execution_count": 2,
   "id": "9f67962a",
   "metadata": {},
   "outputs": [
    {
     "name": "stdout",
     "output_type": "stream",
     "text": [
      "hello world!\n"
     ]
    }
   ],
   "source": [
    "print(\"hello world!\")"
   ]
  },
  {
   "cell_type": "markdown",
   "id": "d1f1b28b",
   "metadata": {},
   "source": [
    "print的作用此刻便体现了出来，如果没有print，那么运行只会体现最后一行的内容。"
   ]
  },
  {
   "cell_type": "code",
   "execution_count": 4,
   "id": "cc2a0260",
   "metadata": {
    "scrolled": true
   },
   "outputs": [
    {
     "data": {
      "text/plain": [
       "11"
      ]
     },
     "execution_count": 4,
     "metadata": {},
     "output_type": "execute_result"
    }
   ],
   "source": [
    "\"hello\"+\"1\"\n",
    "3+8"
   ]
  },
  {
   "cell_type": "code",
   "execution_count": 5,
   "id": "fea3e5a5",
   "metadata": {},
   "outputs": [
    {
     "data": {
      "text/plain": [
       "8"
      ]
     },
     "execution_count": 5,
     "metadata": {},
     "output_type": "execute_result"
    }
   ],
   "source": [
    "5+3"
   ]
  },
  {
   "cell_type": "code",
   "execution_count": 6,
   "id": "28f11040",
   "metadata": {},
   "outputs": [
    {
     "data": {
      "text/plain": [
       "'hello'"
      ]
     },
     "execution_count": 6,
     "metadata": {},
     "output_type": "execute_result"
    }
   ],
   "source": [
    "\"hello\""
   ]
  },
  {
   "cell_type": "code",
   "execution_count": 7,
   "id": "6ebd4281",
   "metadata": {},
   "outputs": [
    {
     "name": "stdout",
     "output_type": "stream",
     "text": [
      "hello\n"
     ]
    }
   ],
   "source": [
    "print(\"hello\")"
   ]
  },
  {
   "cell_type": "code",
   "execution_count": 8,
   "id": "2934aacb",
   "metadata": {},
   "outputs": [
    {
     "name": "stdout",
     "output_type": "stream",
     "text": [
      "hello\n",
      "you\n"
     ]
    }
   ],
   "source": [
    "print(\"hello\\nyou\")"
   ]
  },
  {
   "cell_type": "markdown",
   "id": "017006dc",
   "metadata": {},
   "source": [
    "只有先运行了a=3,才可以等到a。---当然使用重启后赋值动作全面取消 "
   ]
  },
  {
   "cell_type": "code",
   "execution_count": 10,
   "id": "e5f2f937",
   "metadata": {},
   "outputs": [],
   "source": [
    "a = 3"
   ]
  },
  {
   "cell_type": "code",
   "execution_count": 11,
   "id": "5f3f20e9",
   "metadata": {},
   "outputs": [
    {
     "data": {
      "text/plain": [
       "3"
      ]
     },
     "execution_count": 11,
     "metadata": {},
     "output_type": "execute_result"
    }
   ],
   "source": [
    "a"
   ]
  },
  {
   "cell_type": "markdown",
   "id": "b2f9df02",
   "metadata": {},
   "source": [
    "markdown可以斜体、加粗以及加入链接,一对$包裹，一对$$包裹___latex语法"
   ]
  },
  {
   "cell_type": "markdown",
   "id": "7e981e47",
   "metadata": {},
   "source": [
    "这是一个数学公式：$x^2+Y^2=1$"
   ]
  },
  {
   "cell_type": "markdown",
   "id": "2fd1634a",
   "metadata": {},
   "source": [
    "这是一个数学公式：$$ X^2+Y^2=1$$"
   ]
  },
  {
   "cell_type": "markdown",
   "id": "87952402",
   "metadata": {},
   "source": [
    "# 快捷键"
   ]
  },
  {
   "cell_type": "markdown",
   "id": "8de654bc",
   "metadata": {},
   "source": [
    "a 向上加一行单元格；b 向下加一行单元格；删除 双击D；运行 shift+回车；"
   ]
  },
  {
   "cell_type": "markdown",
   "id": "367ca71a",
   "metadata": {},
   "source": [
    "## 分享文件"
   ]
  },
  {
   "cell_type": "markdown",
   "id": "555ed620",
   "metadata": {},
   "source": [
    "会使用—.ipynb文件分享；只想浏览 file as—download as  .html—可以直接浏览器打开"
   ]
  },
  {
   "cell_type": "markdown",
   "id": "1c9c3c2a",
   "metadata": {},
   "source": [
    "##  终结——终端 ctrl+c Y"
   ]
  }
 ],
 "metadata": {
  "kernelspec": {
   "display_name": "Python 3 (ipykernel)",
   "language": "python",
   "name": "python3"
  },
  "language_info": {
   "codemirror_mode": {
    "name": "ipython",
    "version": 3
   },
   "file_extension": ".py",
   "mimetype": "text/x-python",
   "name": "python",
   "nbconvert_exporter": "python",
   "pygments_lexer": "ipython3",
   "version": "3.11.5"
  }
 },
 "nbformat": 4,
 "nbformat_minor": 5
}

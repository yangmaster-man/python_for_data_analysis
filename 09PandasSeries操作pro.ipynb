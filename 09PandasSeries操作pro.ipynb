{
 "cells": [
  {
   "cell_type": "markdown",
   "id": "9d9eded8",
   "metadata": {},
   "source": [
    "Series和Series操作：+ - * /,pandas根据对应的索引index进行对应的计算，得出相应的新series"
   ]
  },
  {
   "cell_type": "code",
   "execution_count": 1,
   "id": "1b425ea3",
   "metadata": {},
   "outputs": [],
   "source": [
    "import pandas as pd"
   ]
  },
  {
   "cell_type": "code",
   "execution_count": 2,
   "id": "ad42f290",
   "metadata": {},
   "outputs": [
    {
     "data": {
      "text/plain": [
       "1    1\n",
       "3    4\n",
       "5    2\n",
       "7    3\n",
       "9    5\n",
       "dtype: int64"
      ]
     },
     "execution_count": 2,
     "metadata": {},
     "output_type": "execute_result"
    }
   ],
   "source": [
    "s1=pd.Series([1,4,2,3,5],index=[1,3,5,7,9])\n",
    "s1"
   ]
  },
  {
   "cell_type": "code",
   "execution_count": 3,
   "id": "8456c356",
   "metadata": {},
   "outputs": [
    {
     "data": {
      "text/plain": [
       "1     8\n",
       "2     1\n",
       "3     7\n",
       "5     3\n",
       "10    9\n",
       "dtype: int64"
      ]
     },
     "execution_count": 3,
     "metadata": {},
     "output_type": "execute_result"
    }
   ],
   "source": [
    "s2=pd.Series([8,1,7,3,9],index=[1,2,3,5,10])\n",
    "s2"
   ]
  },
  {
   "cell_type": "code",
   "execution_count": 4,
   "id": "3444008d",
   "metadata": {},
   "outputs": [
    {
     "data": {
      "text/plain": [
       "1      9.0\n",
       "2      NaN\n",
       "3     11.0\n",
       "5      5.0\n",
       "7      NaN\n",
       "9      NaN\n",
       "10     NaN\n",
       "dtype: float64"
      ]
     },
     "execution_count": 4,
     "metadata": {},
     "output_type": "execute_result"
    }
   ],
   "source": [
    "s1+s2"
   ]
  },
  {
   "cell_type": "markdown",
   "id": "650a9b1d",
   "metadata": {},
   "source": [
    "**Series相互计算** 无对应值时，则为nan，若想要保留，则改为用add（X,fill_value=0）——即将未出现的值按照0计算"
   ]
  },
  {
   "cell_type": "code",
   "execution_count": 6,
   "id": "1d1fe2e1",
   "metadata": {},
   "outputs": [
    {
     "data": {
      "text/plain": [
       "1      9.0\n",
       "2      1.0\n",
       "3     11.0\n",
       "5      5.0\n",
       "7      3.0\n",
       "9      5.0\n",
       "10     9.0\n",
       "dtype: float64"
      ]
     },
     "execution_count": 6,
     "metadata": {},
     "output_type": "execute_result"
    }
   ],
   "source": [
    "s1.add(s2,fill_value=0)"
   ]
  },
  {
   "cell_type": "markdown",
   "id": "095740fb",
   "metadata": {},
   "source": [
    "对应的add(),sub(),mul(),div()"
   ]
  },
  {
   "cell_type": "markdown",
   "id": "969c513f",
   "metadata": {},
   "source": [
    "根据索引自动对应的好处：即使顺序不一样，但会自动对齐"
   ]
  },
  {
   "cell_type": "markdown",
   "id": "1a0a47f3",
   "metadata": {},
   "source": [
    "**常用方法：** numpy一般的max（）、min（），sum（），mean（）等方法仍然使用——numpy没有的describe()方法：展示数据的元数个数、平均数、标准差、最小值，第一四分位数，中位数，第三四分位数，最大值"
   ]
  },
  {
   "cell_type": "code",
   "execution_count": 7,
   "id": "b1b3dd44",
   "metadata": {},
   "outputs": [
    {
     "data": {
      "text/plain": [
       "count    5.000000\n",
       "mean     3.000000\n",
       "std      1.581139\n",
       "min      1.000000\n",
       "25%      2.000000\n",
       "50%      3.000000\n",
       "75%      4.000000\n",
       "max      5.000000\n",
       "dtype: float64"
      ]
     },
     "execution_count": 7,
     "metadata": {},
     "output_type": "execute_result"
    }
   ],
   "source": [
    "s1.describe()"
   ]
  },
  {
   "cell_type": "markdown",
   "id": "be155cc3",
   "metadata": {},
   "source": [
    "**对元素分别操作** 与numpy一样的广播机制（操作被自动运用到Series里每个元素）"
   ]
  },
  {
   "cell_type": "code",
   "execution_count": 8,
   "id": "06f400fa",
   "metadata": {},
   "outputs": [
    {
     "data": {
      "text/plain": [
       "1     3\n",
       "3    12\n",
       "5     6\n",
       "7     9\n",
       "9    15\n",
       "dtype: int64"
      ]
     },
     "execution_count": 8,
     "metadata": {},
     "output_type": "execute_result"
    }
   ],
   "source": [
    "s1*3"
   ]
  },
  {
   "cell_type": "markdown",
   "id": "04bd58e6",
   "metadata": {},
   "source": [
    "**apply方法**  接收函数作为参数，将series内所有元素进行，不改变原始series\n",
    "其中函数不要加（）——非调用函数，而是要素循环。"
   ]
  },
  {
   "cell_type": "code",
   "execution_count": 10,
   "id": "9bb49480",
   "metadata": {},
   "outputs": [],
   "source": [
    "scores=pd.Series({\"小明\":92,\"小红\":67,\"小杰\":70,\"小丽\":88,\"小华\":76})"
   ]
  },
  {
   "cell_type": "code",
   "execution_count": 11,
   "id": "4d426740",
   "metadata": {},
   "outputs": [],
   "source": [
    "def get_grade_from_score(score):\n",
    "    if score>=90:\n",
    "        return \"A\"\n",
    "    elif score>=80:\n",
    "        return \"B\"\n",
    "    elif score>=70:\n",
    "        return \"C\"\n",
    "    else:\n",
    "        return \"D\""
   ]
  },
  {
   "cell_type": "code",
   "execution_count": 12,
   "id": "223ccebd",
   "metadata": {},
   "outputs": [
    {
     "data": {
      "text/plain": [
       "小明    A\n",
       "小红    D\n",
       "小杰    C\n",
       "小丽    B\n",
       "小华    C\n",
       "dtype: object"
      ]
     },
     "execution_count": 12,
     "metadata": {},
     "output_type": "execute_result"
    }
   ],
   "source": [
    "grades=scores.apply(get_grade_from_score)\n",
    "grades"
   ]
  },
  {
   "cell_type": "markdown",
   "id": "f949a708",
   "metadata": {},
   "source": [
    "当逻辑比较简单时，使用匿名函数 lambda开头 参数：返回值，——squares_scores = scores.apply(lambda X：A&B)"
   ]
  }
 ],
 "metadata": {
  "kernelspec": {
   "display_name": "Python 3 (ipykernel)",
   "language": "python",
   "name": "python3"
  },
  "language_info": {
   "codemirror_mode": {
    "name": "ipython",
    "version": 3
   },
   "file_extension": ".py",
   "mimetype": "text/x-python",
   "name": "python",
   "nbconvert_exporter": "python",
   "pygments_lexer": "ipython3",
   "version": "3.11.5"
  }
 },
 "nbformat": 4,
 "nbformat_minor": 5
}

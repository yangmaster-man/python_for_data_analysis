{
 "cells": [
  {
   "cell_type": "markdown",
   "id": "f7190a01",
   "metadata": {},
   "source": [
    "建立于numpy之上，继承其高性能数组计算功能，+更多精细功能"
   ]
  },
  {
   "cell_type": "code",
   "execution_count": 1,
   "id": "1218778f",
   "metadata": {},
   "outputs": [],
   "source": [
    "import pandas as pd"
   ]
  },
  {
   "cell_type": "markdown",
   "id": "58e38453",
   "metadata": {},
   "source": [
    "Series数据结构，和numpy的一维数组相似，且展示相应的index,和元素种类"
   ]
  },
  {
   "cell_type": "code",
   "execution_count": 2,
   "id": "cf5c1e1f",
   "metadata": {},
   "outputs": [
    {
     "data": {
      "text/plain": [
       "0     5\n",
       "1    17\n",
       "2     3\n",
       "3    26\n",
       "4    31\n",
       "dtype: int64"
      ]
     },
     "execution_count": 2,
     "metadata": {},
     "output_type": "execute_result"
    }
   ],
   "source": [
    "s1=pd.Series([5,17,3,26,31])\n",
    "s1"
   ]
  },
  {
   "cell_type": "code",
   "execution_count": 4,
   "id": "0247b70f",
   "metadata": {},
   "outputs": [
    {
     "data": {
      "text/plain": [
       "array([ 5, 17,  3, 26, 31], dtype=int64)"
      ]
     },
     "execution_count": 4,
     "metadata": {},
     "output_type": "execute_result"
    }
   ],
   "source": [
    "s1.values"
   ]
  },
  {
   "cell_type": "code",
   "execution_count": 5,
   "id": "68519296",
   "metadata": {},
   "outputs": [
    {
     "data": {
      "text/plain": [
       "RangeIndex(start=0, stop=5, step=1)"
      ]
     },
     "execution_count": 5,
     "metadata": {},
     "output_type": "execute_result"
    }
   ],
   "source": [
    "s1.index"
   ]
  },
  {
   "cell_type": "markdown",
   "id": "026a67f2",
   "metadata": {},
   "source": [
    "Series的索引切片操作"
   ]
  },
  {
   "cell_type": "code",
   "execution_count": 6,
   "id": "049701b9",
   "metadata": {},
   "outputs": [
    {
     "data": {
      "text/plain": [
       "5"
      ]
     },
     "execution_count": 6,
     "metadata": {},
     "output_type": "execute_result"
    }
   ],
   "source": [
    "s1[0]"
   ]
  },
  {
   "cell_type": "code",
   "execution_count": 7,
   "id": "ac93abf6",
   "metadata": {},
   "outputs": [
    {
     "data": {
      "text/plain": [
       "1    17\n",
       "2     3\n",
       "dtype: int64"
      ]
     },
     "execution_count": 7,
     "metadata": {},
     "output_type": "execute_result"
    }
   ],
   "source": [
    "s1[1:3]"
   ]
  },
  {
   "cell_type": "markdown",
   "id": "3513c74c",
   "metadata": {},
   "source": [
    "pandas series与numpy数组的区别：1、标签索引或切片：可以指定index(标签索引)且原先数字指引（位置索引）任然有用"
   ]
  },
  {
   "cell_type": "code",
   "execution_count": 10,
   "id": "b2302b64",
   "metadata": {},
   "outputs": [
    {
     "data": {
      "text/plain": [
       "a     2\n",
       "b     9\n",
       "c     5\n",
       "d    10\n",
       "dtype: int64"
      ]
     },
     "execution_count": 10,
     "metadata": {},
     "output_type": "execute_result"
    }
   ],
   "source": [
    "s2=pd.Series([2,9,5,10],index=[\"a\",\"b\",\"c\",\"d\"])\n",
    "s2"
   ]
  },
  {
   "cell_type": "code",
   "execution_count": 9,
   "id": "64238f30",
   "metadata": {},
   "outputs": [
    {
     "data": {
      "text/plain": [
       "2"
      ]
     },
     "execution_count": 9,
     "metadata": {},
     "output_type": "execute_result"
    }
   ],
   "source": [
    "s2[\"a\"]"
   ]
  },
  {
   "cell_type": "code",
   "execution_count": 11,
   "id": "97563229",
   "metadata": {},
   "outputs": [
    {
     "data": {
      "text/plain": [
       "2"
      ]
     },
     "execution_count": 11,
     "metadata": {},
     "output_type": "execute_result"
    }
   ],
   "source": [
    "s2[0]"
   ]
  },
  {
   "cell_type": "markdown",
   "id": "5daad144",
   "metadata": {},
   "source": [
    "标签切片时，包含末尾位置"
   ]
  },
  {
   "cell_type": "code",
   "execution_count": 12,
   "id": "1b7d1528",
   "metadata": {},
   "outputs": [
    {
     "data": {
      "text/plain": [
       "a    2\n",
       "b    9\n",
       "c    5\n",
       "dtype: int64"
      ]
     },
     "execution_count": 12,
     "metadata": {},
     "output_type": "execute_result"
    }
   ],
   "source": [
    "s2[\"a\":\"c\"]"
   ]
  },
  {
   "cell_type": "markdown",
   "id": "c90cff49",
   "metadata": {},
   "source": [
    "用索引获得任意元素"
   ]
  },
  {
   "cell_type": "code",
   "execution_count": 13,
   "id": "06ae0db8",
   "metadata": {},
   "outputs": [
    {
     "data": {
      "text/plain": [
       "a    2\n",
       "c    5\n",
       "dtype: int64"
      ]
     },
     "execution_count": 13,
     "metadata": {},
     "output_type": "execute_result"
    }
   ],
   "source": [
    "s2[[\"a\",\"c\"]]"
   ]
  },
  {
   "cell_type": "code",
   "execution_count": 14,
   "id": "9908fe20",
   "metadata": {},
   "outputs": [
    {
     "data": {
      "text/plain": [
       "a    2\n",
       "c    5\n",
       "dtype: int64"
      ]
     },
     "execution_count": 14,
     "metadata": {},
     "output_type": "execute_result"
    }
   ],
   "source": [
    "s2[[0,2]]"
   ]
  },
  {
   "cell_type": "markdown",
   "id": "d0b7e969",
   "metadata": {},
   "source": [
    "但是当设置索引值为整数时，与原来的整数index容易混乱——**loc标签和iloc位置**索引或切片"
   ]
  },
  {
   "cell_type": "markdown",
   "id": "9323b3ef",
   "metadata": {},
   "source": [
    "创建series的另外一种方法，——输入字典"
   ]
  },
  {
   "cell_type": "code",
   "execution_count": 27,
   "id": "1b7963ea",
   "metadata": {},
   "outputs": [
    {
     "data": {
      "text/plain": [
       "青菜     4.1\n",
       "白萝卜    2.2\n",
       "西红柿    5.3\n",
       "土豆     3.7\n",
       "黄瓜     6.8\n",
       "dtype: float64"
      ]
     },
     "execution_count": 27,
     "metadata": {},
     "output_type": "execute_result"
    }
   ],
   "source": [
    "s3=pd.Series({\"青菜\":4.1,\"白萝卜\":2.2,\"西红柿\":5.3,\"土豆\":3.7,\"黄瓜\":6.8})\n",
    "s3"
   ]
  },
  {
   "cell_type": "code",
   "execution_count": 16,
   "id": "60166c06",
   "metadata": {},
   "outputs": [
    {
     "data": {
      "text/plain": [
       "青菜     4.1\n",
       "白萝卜    2.2\n",
       "西红柿    5.3\n",
       "土豆     3.7\n",
       "黄瓜     6.8\n",
       "dtype: float64"
      ]
     },
     "execution_count": 16,
     "metadata": {},
     "output_type": "execute_result"
    }
   ],
   "source": [
    "s3=pd.Series([4.1,2.2,5.3,3.7,6.8],index=[\"青菜\",\"白萝卜\",\"西红柿\",\"土豆\",\"黄瓜\"])\n",
    "s3"
   ]
  },
  {
   "cell_type": "markdown",
   "id": "6b6adc58",
   "metadata": {},
   "source": [
    "查看标签是否存在 in"
   ]
  },
  {
   "cell_type": "code",
   "execution_count": 18,
   "id": "59d68c39",
   "metadata": {},
   "outputs": [
    {
     "data": {
      "text/plain": [
       "True"
      ]
     },
     "execution_count": 18,
     "metadata": {},
     "output_type": "execute_result"
    }
   ],
   "source": [
    "\"青菜\"in s3"
   ]
  },
  {
   "cell_type": "markdown",
   "id": "642c5972",
   "metadata": {},
   "source": [
    "修改Series里的值:s3[\"青菜\"]=7.8——s3.loc[\"青菜\"]=7.8 or s3.iloc[0]=7.8"
   ]
  },
  {
   "cell_type": "code",
   "execution_count": 23,
   "id": "3cb9a9e2",
   "metadata": {},
   "outputs": [],
   "source": [
    "s3.loc[\"青菜\"]=4.9"
   ]
  },
  {
   "cell_type": "code",
   "execution_count": 24,
   "id": "83c535d8",
   "metadata": {},
   "outputs": [
    {
     "data": {
      "text/plain": [
       "青菜     4.9\n",
       "白萝卜    2.2\n",
       "西红柿    5.3\n",
       "土豆     3.7\n",
       "黄瓜     6.8\n",
       "dtype: float64"
      ]
     },
     "execution_count": 24,
     "metadata": {},
     "output_type": "execute_result"
    }
   ],
   "source": [
    "s3"
   ]
  },
  {
   "cell_type": "markdown",
   "id": "58274130",
   "metadata": {},
   "source": [
    "根据条件筛选series元素，使用逻辑运算符，& | ~"
   ]
  },
  {
   "cell_type": "code",
   "execution_count": 25,
   "id": "15052bff",
   "metadata": {},
   "outputs": [
    {
     "data": {
      "text/plain": [
       "西红柿    5.3\n",
       "黄瓜     6.8\n",
       "dtype: float64"
      ]
     },
     "execution_count": 25,
     "metadata": {},
     "output_type": "execute_result"
    }
   ],
   "source": [
    "s3[s3>5]"
   ]
  },
  {
   "cell_type": "code",
   "execution_count": 29,
   "id": "8fb49ca1",
   "metadata": {},
   "outputs": [
    {
     "data": {
      "text/plain": [
       "白萝卜    2.2\n",
       "西红柿    5.3\n",
       "黄瓜     6.8\n",
       "dtype: float64"
      ]
     },
     "execution_count": 29,
     "metadata": {},
     "output_type": "execute_result"
    }
   ],
   "source": [
    "s3[(s3>5) | (s3<3)]"
   ]
  },
  {
   "cell_type": "code",
   "execution_count": null,
   "id": "4f790092",
   "metadata": {},
   "outputs": [],
   "source": []
  },
  {
   "cell_type": "code",
   "execution_count": null,
   "id": "e75f634d",
   "metadata": {},
   "outputs": [],
   "source": []
  }
 ],
 "metadata": {
  "kernelspec": {
   "display_name": "Python 3 (ipykernel)",
   "language": "python",
   "name": "python3"
  },
  "language_info": {
   "codemirror_mode": {
    "name": "ipython",
    "version": 3
   },
   "file_extension": ".py",
   "mimetype": "text/x-python",
   "name": "python",
   "nbconvert_exporter": "python",
   "pygments_lexer": "ipython3",
   "version": "3.11.5"
  }
 },
 "nbformat": 4,
 "nbformat_minor": 5
}

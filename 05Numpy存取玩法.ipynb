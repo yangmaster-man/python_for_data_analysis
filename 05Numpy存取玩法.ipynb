{
 "cells": [
  {
   "cell_type": "code",
   "execution_count": 4,
   "id": "18c0a352",
   "metadata": {},
   "outputs": [],
   "source": [
    "import numpy as np"
   ]
  },
  {
   "cell_type": "code",
   "execution_count": 5,
   "id": "dc0bfd0a",
   "metadata": {},
   "outputs": [],
   "source": [
    "arr1=np.array([1,2,3])"
   ]
  },
  {
   "cell_type": "code",
   "execution_count": 15,
   "id": "92e4c183",
   "metadata": {},
   "outputs": [],
   "source": [
    "arr2=np.array([4,5,6])"
   ]
  },
  {
   "cell_type": "markdown",
   "id": "5fcb7beb",
   "metadata": {},
   "source": [
    "链接——np.concatenate([arr1,arr2])——两个数组为一个新数组"
   ]
  },
  {
   "cell_type": "code",
   "execution_count": 16,
   "id": "ebdf2e6e",
   "metadata": {},
   "outputs": [
    {
     "data": {
      "text/plain": [
       "array([1, 2, 3, 4, 5, 6])"
      ]
     },
     "execution_count": 16,
     "metadata": {},
     "output_type": "execute_result"
    }
   ],
   "source": [
    "arr3=np.concatenate([arr1,arr2])\n",
    "arr3"
   ]
  },
  {
   "cell_type": "markdown",
   "id": "e04245a4",
   "metadata": {},
   "source": [
    "排序——numpy中的sort（X）函数，sort（）方法"
   ]
  },
  {
   "cell_type": "code",
   "execution_count": 8,
   "id": "52e32097",
   "metadata": {},
   "outputs": [],
   "source": [
    "arr4=np.array([2,9,3,1])"
   ]
  },
  {
   "cell_type": "code",
   "execution_count": 11,
   "id": "b5f0d327",
   "metadata": {},
   "outputs": [
    {
     "name": "stdout",
     "output_type": "stream",
     "text": [
      "[1 2 3 9]\n",
      "[1 2 3 9]\n"
     ]
    }
   ],
   "source": [
    "arr5=np.sort(arr4)\n",
    "print(arr5)\n",
    "arr4.sort()\n",
    "print(arr4)"
   ]
  },
  {
   "cell_type": "markdown",
   "id": "5dbab77c",
   "metadata": {},
   "source": [
    "排序——python内置sorted函数（返回新列表，不改变原列表）、sort方法（什么都不返回，但是改变原列表）"
   ]
  },
  {
   "cell_type": "code",
   "execution_count": 13,
   "id": "5d8d5b88",
   "metadata": {},
   "outputs": [
    {
     "data": {
      "text/plain": [
       "array([2, 3])"
      ]
     },
     "execution_count": 13,
     "metadata": {},
     "output_type": "execute_result"
    }
   ],
   "source": [
    "arr4[0]\n",
    "arr4[-1]\n",
    "arr4[1:3]"
   ]
  },
  {
   "cell_type": "markdown",
   "id": "1e7c2a6e",
   "metadata": {},
   "source": [
    "索引——第一个值arr1[0];倒数第二个值arr1[-2];获得一个范围的部分数组arr1[1:4]"
   ]
  },
  {
   "cell_type": "markdown",
   "id": "1808dd7d",
   "metadata": {},
   "source": [
    "数组运算—— + - / * ；数组和单个数字之间（线性代数中，向量和标量的运算）"
   ]
  },
  {
   "cell_type": "code",
   "execution_count": 17,
   "id": "f7cbea89",
   "metadata": {},
   "outputs": [
    {
     "data": {
      "text/plain": [
       "array([5, 7, 9])"
      ]
     },
     "execution_count": 17,
     "metadata": {},
     "output_type": "execute_result"
    }
   ],
   "source": [
    "arr1+arr2"
   ]
  },
  {
   "cell_type": "code",
   "execution_count": 18,
   "id": "70935dba",
   "metadata": {},
   "outputs": [
    {
     "data": {
      "text/plain": [
       "array([-3, -3, -3])"
      ]
     },
     "execution_count": 18,
     "metadata": {},
     "output_type": "execute_result"
    }
   ],
   "source": [
    "arr1-arr2"
   ]
  },
  {
   "cell_type": "code",
   "execution_count": 19,
   "id": "3daa332c",
   "metadata": {},
   "outputs": [
    {
     "data": {
      "text/plain": [
       "array([0.25, 0.4 , 0.5 ])"
      ]
     },
     "execution_count": 19,
     "metadata": {},
     "output_type": "execute_result"
    }
   ],
   "source": [
    "arr1/arr2"
   ]
  },
  {
   "cell_type": "code",
   "execution_count": 20,
   "id": "c55b4d4a",
   "metadata": {},
   "outputs": [
    {
     "data": {
      "text/plain": [
       "array([ 4, 10, 18])"
      ]
     },
     "execution_count": 20,
     "metadata": {},
     "output_type": "execute_result"
    }
   ],
   "source": [
    "arr1*arr2"
   ]
  },
  {
   "cell_type": "markdown",
   "id": "6e4dc68f",
   "metadata": {},
   "source": [
    "广播机制"
   ]
  },
  {
   "cell_type": "code",
   "execution_count": 21,
   "id": "3ea3f46f",
   "metadata": {},
   "outputs": [
    {
     "data": {
      "text/plain": [
       "array([3, 6, 9])"
      ]
     },
     "execution_count": 21,
     "metadata": {},
     "output_type": "execute_result"
    }
   ],
   "source": [
    "arr1*3"
   ]
  },
  {
   "cell_type": "markdown",
   "id": "77ff744c",
   "metadata": {},
   "source": [
    "聚合操作：通过一组值得到一个值arr4.max(),arr4.min(),arr4.sum(),arr4.mean()"
   ]
  },
  {
   "cell_type": "markdown",
   "id": "2967d46b",
   "metadata": {},
   "source": [
    "**根据特定条件筛选数组元素**：数组比列表方便：在arr6=np.array([-33,3,65,9,11]),其中大于6的值？"
   ]
  },
  {
   "cell_type": "code",
   "execution_count": 22,
   "id": "761105f3",
   "metadata": {},
   "outputs": [],
   "source": [
    "arr6=np.array([-33,3,65,9,11])"
   ]
  },
  {
   "cell_type": "code",
   "execution_count": 24,
   "id": "9bcba262",
   "metadata": {},
   "outputs": [
    {
     "data": {
      "text/plain": [
       "array([65,  9, 11])"
      ]
     },
     "execution_count": 24,
     "metadata": {},
     "output_type": "execute_result"
    }
   ],
   "source": [
    "arr6[arr6>6]"
   ]
  },
  {
   "cell_type": "markdown",
   "id": "47a09126",
   "metadata": {},
   "source": [
    "根据广播机制，>6会被运用于每一个元素，——产生ture和false的布尔值数组以代表是否>6——在方括号中放入布尔值（极元素）"
   ]
  },
  {
   "cell_type": "markdown",
   "id": "68d7821e",
   "metadata": {},
   "source": [
    "**更复杂的逻辑运算**：与-and-&；或-or-|；非-not-~    筛选所有大于6且小于10的数字"
   ]
  },
  {
   "cell_type": "code",
   "execution_count": 25,
   "id": "fc2cd576",
   "metadata": {},
   "outputs": [
    {
     "data": {
      "text/plain": [
       "array([9])"
      ]
     },
     "execution_count": 25,
     "metadata": {},
     "output_type": "execute_result"
    }
   ],
   "source": [
    "arr6[(arr6>6) & (arr6<10) ]"
   ]
  }
 ],
 "metadata": {
  "kernelspec": {
   "display_name": "Python 3 (ipykernel)",
   "language": "python",
   "name": "python3"
  },
  "language_info": {
   "codemirror_mode": {
    "name": "ipython",
    "version": 3
   },
   "file_extension": ".py",
   "mimetype": "text/x-python",
   "name": "python",
   "nbconvert_exporter": "python",
   "pygments_lexer": "ipython3",
   "version": "3.11.5"
  }
 },
 "nbformat": 4,
 "nbformat_minor": 5
}

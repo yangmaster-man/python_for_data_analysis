{
 "cells": [
  {
   "cell_type": "code",
   "execution_count": 1,
   "id": "0c3e4b11",
   "metadata": {},
   "outputs": [],
   "source": [
    "import pandas as pd"
   ]
  },
  {
   "cell_type": "code",
   "execution_count": 2,
   "id": "b1d36e17",
   "metadata": {},
   "outputs": [
    {
     "data": {
      "text/plain": [
       "0   -1.2\n",
       "1    3.7\n",
       "2    2.5\n",
       "3   -8.2\n",
       "4    6.3\n",
       "dtype: float64"
      ]
     },
     "execution_count": 2,
     "metadata": {},
     "output_type": "execute_result"
    }
   ],
   "source": [
    "s1=pd.Series([-1.2,3.7,2.5,-8.2,6.3])\n",
    "s1"
   ]
  },
  {
   "cell_type": "code",
   "execution_count": 3,
   "id": "a7c89be8",
   "metadata": {},
   "outputs": [
    {
     "data": {
      "text/plain": [
       "array([-1.2,  3.7,  2.5, -8.2,  6.3])"
      ]
     },
     "execution_count": 3,
     "metadata": {},
     "output_type": "execute_result"
    }
   ],
   "source": [
    "s1.values"
   ]
  },
  {
   "cell_type": "code",
   "execution_count": 4,
   "id": "e27c6fca",
   "metadata": {},
   "outputs": [
    {
     "data": {
      "text/plain": [
       "RangeIndex(start=0, stop=5, step=1)"
      ]
     },
     "execution_count": 4,
     "metadata": {},
     "output_type": "execute_result"
    }
   ],
   "source": [
    "s1.index"
   ]
  },
  {
   "cell_type": "code",
   "execution_count": 5,
   "id": "5c20f2c9",
   "metadata": {},
   "outputs": [
    {
     "data": {
      "text/plain": [
       "5    1\n",
       "4    2\n",
       "3    3\n",
       "2    4\n",
       "1    5\n",
       "dtype: int64"
      ]
     },
     "execution_count": 5,
     "metadata": {},
     "output_type": "execute_result"
    }
   ],
   "source": [
    "s2=pd.Series([1,2,3,4,5],index=[5,4,3,2,1])\n",
    "s2"
   ]
  },
  {
   "cell_type": "code",
   "execution_count": 8,
   "id": "44b77c9c",
   "metadata": {},
   "outputs": [
    {
     "data": {
      "text/plain": [
       "2"
      ]
     },
     "execution_count": 8,
     "metadata": {},
     "output_type": "execute_result"
    }
   ],
   "source": [
    "s2.iloc[1]"
   ]
  },
  {
   "cell_type": "code",
   "execution_count": 9,
   "id": "52bb0bc2",
   "metadata": {},
   "outputs": [
    {
     "data": {
      "text/plain": [
       "5    1\n",
       "4    2\n",
       "3    3\n",
       "dtype: int64"
      ]
     },
     "execution_count": 9,
     "metadata": {},
     "output_type": "execute_result"
    }
   ],
   "source": [
    "s2.loc[5:3]"
   ]
  },
  {
   "cell_type": "code",
   "execution_count": 10,
   "id": "23e97b60",
   "metadata": {},
   "outputs": [
    {
     "data": {
      "text/plain": [
       "小李    82\n",
       "小陈    93\n",
       "小张    91\n",
       "小曾    78\n",
       "小邓    68\n",
       "dtype: int64"
      ]
     },
     "execution_count": 10,
     "metadata": {},
     "output_type": "execute_result"
    }
   ],
   "source": [
    "s3=pd.Series({\"小李\":82,\"小陈\":93,\"小张\":91,\"小曾\":78,\"小邓\":68})\n",
    "s3"
   ]
  },
  {
   "cell_type": "code",
   "execution_count": 11,
   "id": "caed56d0",
   "metadata": {},
   "outputs": [
    {
     "data": {
      "text/plain": [
       "小李    82\n",
       "小陈    93\n",
       "小张    95\n",
       "小曾    78\n",
       "小邓    68\n",
       "dtype: int64"
      ]
     },
     "execution_count": 11,
     "metadata": {},
     "output_type": "execute_result"
    }
   ],
   "source": [
    "s3.loc[\"小张\"]=95\n",
    "s3"
   ]
  },
  {
   "cell_type": "code",
   "execution_count": 12,
   "id": "bad2e232",
   "metadata": {},
   "outputs": [
    {
     "data": {
      "text/plain": [
       "小李    82\n",
       "dtype: int64"
      ]
     },
     "execution_count": 12,
     "metadata": {},
     "output_type": "execute_result"
    }
   ],
   "source": [
    "s3[(s3>80) & (s3<90)]"
   ]
  },
  {
   "cell_type": "code",
   "execution_count": null,
   "id": "02581450",
   "metadata": {},
   "outputs": [],
   "source": []
  }
 ],
 "metadata": {
  "kernelspec": {
   "display_name": "Python 3 (ipykernel)",
   "language": "python",
   "name": "python3"
  },
  "language_info": {
   "codemirror_mode": {
    "name": "ipython",
    "version": 3
   },
   "file_extension": ".py",
   "mimetype": "text/x-python",
   "name": "python",
   "nbconvert_exporter": "python",
   "pygments_lexer": "ipython3",
   "version": "3.11.5"
  }
 },
 "nbformat": 4,
 "nbformat_minor": 5
}

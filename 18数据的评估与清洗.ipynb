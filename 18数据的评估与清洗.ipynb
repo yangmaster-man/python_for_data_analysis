{
 "cells": [
  {
   "cell_type": "markdown",
   "id": "951c275c",
   "metadata": {},
   "source": [
    "## 评估数据：结构（乱数据-整洁数据）+内容（脏数据-干净数据）——整洁度、干净度\n",
    "       整洁数据：根据埃德加科德第三范式，有三个特点：每列是一个变量；每行是一个观察值；每个单元格是一个值\n",
    "       列是数据，行是实例\n",
    "       整洁数据并不一定更加直观，他是为了更利于数据分析\n",
    "       脏数据：丢失数据，空缺；重复数据；不一致数据；无效或错误数据\n",
    "       数据结构比数据内容更好评估\n",
    "       "
   ]
  },
  {
   "cell_type": "markdown",
   "id": "9ee2ba5a",
   "metadata": {},
   "source": [
    "### 评价结构 info head tail sample \n",
    "dataframe info() 概况信息（列名、列对应的数据类型）——快速了解信息\n",
    "通过 head（） tail（）方法是否符合三范式；sample（）——随机几行\n",
    "调整展示上限：pd.set_option(\"display.max_columns\",150)\n",
    "         pd.set_option(\"display.max_colwidth\",500)"
   ]
  },
  {
   "cell_type": "markdown",
   "id": "41eae9d4",
   "metadata": {},
   "source": [
    "### 评价内容 info isnull sum\n",
    "#### 评估丢失数据：\n",
    "    info（）列出每列非空缺值数量；series的isnull方法，各个值是否为空缺，用在dataframe上，则是生成由布尔值组成的dataframe表格。连续调用isnull（）.sum()——得到空缺的数量（因为布尔值T为1，F为0，计入运算）\n",
    "    so 计算某列空缺值个数：scores[\"考试1\"].isnull().sum()\n",
    "       计算每列空缺值个数：scores.isnull().sum()\n",
    "   \n",
    "    提取有空缺的行 or 列(根据条件提取)：\n",
    "    scores[scores[\"考试3\"].isnull()]\n",
    "#### 评估重复数据：duplicated（subset=[\"\",\"\"]）\n",
    "    students[\"学号\"].duplicated()——某值第一次出现为F，第二次为T\n",
    "    对于SEries\n",
    "    对于dataframe——只有行的信息完全一样，才会显示T\n",
    "    对于多个属性进行：可选参数subset：students.duplicated(subset=[\"学号\",\"性别\"])\n",
    "    提取有问题的行：students[students.duplicated(subset=[\"学号\",\"性别\"])]\n",
    "#### 评估不一致数据：value_counts（）\n",
    "    借用series的value_counts()方法——可以看到dataframe某列下面所有值的种类，以及各个种类出现的次数——确定有没有不同值在表示同一目标的情况\n",
    "    students[\"班级\"].value_counts（）\n",
    "#### 评估无效/错误数据：sort_values（），describe()\n",
    "    特别离谱的——排序方法：异常小值，异常大值——students[\"身高\"].sort_values（）\n",
    "    students.describe() 展示最小值最大值，是否有异常数据存在\n",
    "#### 其他评估技能\n",
    "#### 评估目的：基于评估结果，确认下一步行动"
   ]
  },
  {
   "cell_type": "code",
   "execution_count": 1,
   "id": "4e5405a8",
   "metadata": {},
   "outputs": [
    {
     "data": {
      "text/plain": [
       "4"
      ]
     },
     "execution_count": 1,
     "metadata": {},
     "output_type": "execute_result"
    }
   ],
   "source": [
    "True+3"
   ]
  },
  {
   "cell_type": "code",
   "execution_count": 2,
   "id": "54c98a33",
   "metadata": {},
   "outputs": [
    {
     "data": {
      "text/plain": [
       "2"
      ]
     },
     "execution_count": 2,
     "metadata": {},
     "output_type": "execute_result"
    }
   ],
   "source": [
    "False+2"
   ]
  },
  {
   "cell_type": "markdown",
   "id": "902b8593",
   "metadata": {},
   "source": [
    "## 清洗数据 清洗之术-pandas库-道\n",
    "    先结构再内容：\n",
    "    结构：转置行列、拆分、重塑、多个观察值拆分\n",
    "    内容：丢失数据（人工填入；不处理；如果是关键变量缺失，删除当行；值填充）\n",
    "        重复数据：删除\n",
    "        不一致数据：统一，统一含义只保留一种表达方式\n",
    "        无效数据：删除or替换，pandas自动忽略nan，so，反而不影响，or值填充\n",
    "        变量转换：具体变量的数据类型之间的转换（手机号，int64-str）\n",
    "    利用pandas库进行实际的数据清理。"
   ]
  },
  {
   "cell_type": "markdown",
   "id": "a9085ae5",
   "metadata": {},
   "source": [
    "### pandas库的清洗之道 rename\n",
    "#### 清理索引和列名 rename set_index reset_index sort_index\n",
    "    dataframe的rename方法——重命名索引和列名\n",
    "        df.rename(index={...})——修改索引\n",
    "            df.rename(index={\"2-\":\"2\",\"_5\":\"5\"})\n",
    "        df.rename(columns={...})——修改列名\n",
    "            df.rename(columns={\"客户_姓名\":\"客户姓名\",\"客户 性别\":\"客户性别\"})\n",
    "        tips：并不改变原始值，需要赋值，or，inplace=True\n",
    "             df.rename(columns={...}，inplace=True)\n",
    "             \n",
    "    rename()可传入函数or方法！\n",
    "        df.rename(index=某函数/方法)——修改索引\n",
    "           df.rename(columns=str.upper)\n",
    "           tips:\n",
    "               pandas官方文档（61课，2分40秒）\n",
    "               series、dataframe方法相关文档\n",
    "        df.rename(columns=某函数/方法)——修改列名\n",
    "    \n",
    "    把某列设为索引——df.set_index(\"Salesperson\")；reset_index\n",
    "        df.set_index(\"Salesperson\")——将某列设为索引\n",
    "        df.reset_index(\"Salesperson\")——将设为原本默认（与上相反）\n",
    "    \n",
    "    对索引和列名重新排序：sort_index(),默认axis=0，沿着索引纵向\n",
    "        不改变原始值，赋值or inplace=Ture\n",
    "        \n",
    "#### 针对乱数据的清理 T  ；str.splitt(\"/\",expand=True)  drop；str.cat；pd.melt；explode（）——一般都不改变原始值——赋值orinplace=True\n",
    "    对数据转置：df = df.T\n",
    "    \n",
    "    对列进行拆分：一列变多列\n",
    "        对单个字符串:\"28.53/0.87\".split(\"/\")——['28.53','0.87']\n",
    "        对列进行拆分：str.split（series的方法）\n",
    "            df[\"人口密度\"].str.split(\"/\",expand=True),expand=True表示分割为单独的series\n",
    "            df[\"人口\",\"面积\"]=df[\"人口密度\"].str.split(\"/\",expand=True)\n",
    "            df = df.drop(\"人口密度\"，axis=1)——将拆分前的列删除\n",
    "            \n",
    "    对列进行合并：str.cat\n",
    "        df[\"姓名\"] = df[\"姓\"].str.cat(df[\"名\"],sep=\"_\"),sep=\"_\"指是以_为链接\n",
    "        df = df.drop([\"姓\",\"名\"]，axis=1)\n",
    "        \n",
    "    把宽数据转换为长数据 ：pd.melt \n",
    "         不改变原始dataframe，重新赋值\n",
    "         pd.melt(df,id_vars=['国家代码','年份']，var_name='年龄组'，value_name='肺结核病例数')\n",
    "             df——对象\n",
    "             id_vars——不变列\n",
    "             var_name——新列\n",
    "             value_name——新列\n",
    "     \n",
    "     对行进行拆分：df.explode(\"课程列表\")\n",
    "     \n",
    "     对行或列进行删除：drop，默认axis=0，为行\n",
    "         不改变原始值\n",
    "         df.drop([2,4])\n",
    "         df.drop([\"考试2\",\"考试4\"]，axis=1)\n",
    "\n",
    "#### 针对脏数据的清理loc，iloc，fillna（分series逐列，dataframe传入对象），dropna(subset=[\"\"])，drop_duplicates(subset=[\"\"]，keep='')，repalce，——不改原始值——赋值/inplace\n",
    "    对整列缺失值填充：针对列的赋值操作：\n",
    "        df[\"国家\"] = \"中国\"\n",
    "    对某个缺失值填充：loc、iloc定位填充：\n",
    "        df.loc[\"003\",\"销售额\"] = 800\n",
    "    对部分缺失值填充：loc、iloc定位填充：\n",
    "        df.loc[\"003\":\"004\",\"日期\"] = \"2005-01-03\"   \n",
    "    自动找到缺失并填充:df[\"B\"].fillna(0)——自动找到NAN，并填充为0\n",
    "        df[\"B\"].fillna(df[\"B\".mean()])——自动找到NAN，并填充为平均值\n",
    "        df.fillna({'A':0,'B':10.'C':20})——对dataframe使用，传入对象，键为列名，值为对应列NAN填数——更高效\n",
    "     \n",
    "     删除存在缺失值的行：如果缺失关键数据——不得不丢弃观察值——dropna\n",
    "         df.dropna(subset=[\"工资\"]，axis=0)——仅删除缺少“工资”行,默认axis=0——行,\n",
    "     删除重复数据：drop_duplicates ——删除series重复值，or dataframe的重复行 \n",
    "         df[\"姓名\"].drop_duplicates()——删除重复值\n",
    "         df.drop_duplicates()——删除重复行\n",
    "         df.drop_duplicates(subset=[\"姓名\",\"学号\"]，keep='last',axis=0)——删除姓名和性别重复的行——！！是同时重复！！——删除的是第一个;keep='last'——表示保留最后一个重复值\n",
    "         \n",
    "     对值进行替换:repalce\n",
    "         series调用：df[\"学校\"].repalce(\"清华\",\"清华大学\")\n",
    "            df[\"学校\"].repalce([\"清华\",\"五道口\"],\"清华大学\") \n",
    "             ——将清华转为清华大学\n",
    "         dataframe调用：df.repalce(\"清华\",\"清华大学\")\n",
    "             前者可以是数组、也可以是对象\n",
    "             repalce_dict={'华南':'华南理工大学'，\"清华\"：\"清华大学\"}\n",
    "             df.replace(repalce_dict)\n",
    "     对值的类型进行替换：series的astype（）方法;type\n",
    "         s1.astype(int)\n",
    "         s1.astype(str)\n",
    "         s1.astype(float)\n",
    "         s1.astype(bool)\n",
    "         type()——返回类型名称\n",
    "         tips：在python里面str以object名称表示\n",
    "         \n",
    "         pandas库的category（）方法，分类数据\n",
    "         数据的类型：分类数据（有限数量的不同类别数据：如性别、奖牌）、数值数据（具体的测量数值，不受限制，譬如0到1之间有无数的数字——进行数学运算是有意义的）\n",
    "         分类数据——当是有限种类的，pandas推荐将其转换为category数据类型——节约内存，可视化分析时选择合适的统计方法或图表类型\n",
    "         s1.astype(\"category\")"
   ]
  },
  {
   "cell_type": "markdown",
   "id": "7928f366",
   "metadata": {},
   "source": [
    "### 保存清洗的数据\n",
    "    写入csv——df.to_csv(\"cleaned_sales_data.csv\")\n",
    "        调用后将dataframe转换为csv格式，并保存到路径对应的文件\n",
    "        但是由dataframe转化而来的csv，再转化为 dataframe 就会有一个多余的unnamed：0\n",
    "        rename（）——cleaned_df.rename(columns={\"Unnamed:0\":\"销售ID\"}，inplace = True)\n",
    "        cleaned_df.set_index(\"销售ID\"，inplace = True)\n",
    "        \n",
    "     or,直接不读取索引（如果无关键信息）——df.to_csv(\"cleaned_sales_data.csv\"，index=False)"
   ]
  }
 ],
 "metadata": {
  "kernelspec": {
   "display_name": "Python 3 (ipykernel)",
   "language": "python",
   "name": "python3"
  },
  "language_info": {
   "codemirror_mode": {
    "name": "ipython",
    "version": 3
   },
   "file_extension": ".py",
   "mimetype": "text/x-python",
   "name": "python",
   "nbconvert_exporter": "python",
   "pygments_lexer": "ipython3",
   "version": "3.11.5"
  }
 },
 "nbformat": 4,
 "nbformat_minor": 5
}

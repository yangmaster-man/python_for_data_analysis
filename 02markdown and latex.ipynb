{
 "cells": [
  {
   "cell_type": "markdown",
   "id": "b3ac267b",
   "metadata": {},
   "source": [
    "## markdown的样式快捷键"
   ]
  },
  {
   "cell_type": "markdown",
   "id": "33e0b06c",
   "metadata": {},
   "source": [
    "我是**粗体字**"
   ]
  },
  {
   "cell_type": "markdown",
   "id": "ba08fd66",
   "metadata": {},
   "source": [
    "我是*斜体字*"
   ]
  },
  {
   "cell_type": "markdown",
   "id": "e7fe6d7d",
   "metadata": {},
   "source": [
    "我被~~删除~~了"
   ]
  },
  {
   "cell_type": "markdown",
   "id": "38d2e28b",
   "metadata": {},
   "source": [
    "换行\n",
    "\n",
    "换行"
   ]
  },
  {
   "cell_type": "markdown",
   "id": "a987a912",
   "metadata": {},
   "source": [
    "换行（此行后面两个空格）  \n",
    "换行"
   ]
  },
  {
   "cell_type": "markdown",
   "id": "8dd68c02",
   "metadata": {},
   "source": [
    "- 短横杠空格为无序列表\n",
    "- 短横杠空格"
   ]
  },
  {
   "cell_type": "markdown",
   "id": "a1658c20",
   "metadata": {},
   "source": [
    "1. 英文数字、句号、空格为有序列表\n",
    "2. 英文、句号、空格"
   ]
  },
  {
   "cell_type": "markdown",
   "id": "2d9062a8",
   "metadata": {},
   "source": [
    "插入链接方法1：直接插入www.bilibili.com/"
   ]
  },
  {
   "cell_type": "markdown",
   "id": "3de3e184",
   "metadata": {},
   "source": [
    "插入方法二：解释跳转：[]()——注意其中的网页链接为完整链接，带协议名称https:/"
   ]
  },
  {
   "cell_type": "markdown",
   "id": "e3cfe075",
   "metadata": {},
   "source": [
    "[哔哩哔哩动画](https://www.bilibili.com/)"
   ]
  },
  {
   "cell_type": "markdown",
   "id": "a8d0e901",
   "metadata": {},
   "source": [
    "插入图面：![]()"
   ]
  },
  {
   "cell_type": "markdown",
   "id": "f0b6d608",
   "metadata": {},
   "source": [
    "![插入图片](https://upload.wikimedia.org/wikipedia/commons/b/bc/Nanjing_Central_Emporium.jpg)"
   ]
  },
  {
   "cell_type": "markdown",
   "id": "309a77bb",
   "metadata": {},
   "source": [
    "插入引入段落 > 空格 引用语"
   ]
  },
  {
   "cell_type": "markdown",
   "id": "1ed51902",
   "metadata": {},
   "source": [
    ">蒹葭苍苍白露为霜"
   ]
  },
  {
   "cell_type": "markdown",
   "id": "b29d86d4",
   "metadata": {},
   "source": [
    "插入代码```代码类型名称\n",
    "       代码内容```"
   ]
  },
  {
   "cell_type": "markdown",
   "id": "e2bebae2",
   "metadata": {},
   "source": [
    "```python\n",
    "import math\n",
    "print(\"hello world\")\n",
    "print(math.pi)\n",
    "```"
   ]
  },
  {
   "cell_type": "markdown",
   "id": "3134ad82",
   "metadata": {},
   "source": [
    "插入公式：行内代码一对$；行外代码一对$$；复杂代码latex（一个排版系统—只需要公式相关即可）；"
   ]
  },
  {
   "cell_type": "markdown",
   "id": "adc20302",
   "metadata": {},
   "source": [
    "LaTex的快捷键：+，-，\\times,\\div,上标^,下标_,下标插入_{input},求和符号\\sum(),求根\\sqrt[]x;\\sqrt[]{},分数线\\frac{分数线上}{分数线下}"
   ]
  },
  {
   "cell_type": "markdown",
   "id": "d8627f94",
   "metadata": {},
   "source": [
    "$$x \\times y$$"
   ]
  },
  {
   "cell_type": "markdown",
   "id": "4a43106f",
   "metadata": {},
   "source": [
    "$$x \\div y$$"
   ]
  },
  {
   "cell_type": "markdown",
   "id": "34232044",
   "metadata": {},
   "source": [
    "$$x^3+y^2$$"
   ]
  },
  {
   "cell_type": "markdown",
   "id": "c83f235e",
   "metadata": {},
   "source": [
    "$$X_1+Y_{input}$$"
   ]
  },
  {
   "cell_type": "markdown",
   "id": "322a2cbd",
   "metadata": {},
   "source": [
    "$$\\sum(1+2+3+4....+100)$$"
   ]
  },
  {
   "cell_type": "markdown",
   "id": "b06149ef",
   "metadata": {},
   "source": [
    "$$\\sqrt[3]{1+2+3+4^2+8}$$"
   ]
  },
  {
   "cell_type": "markdown",
   "id": "c0a14a9b",
   "metadata": {},
   "source": [
    "$$\\frac{x+y}{x-y}$$"
   ]
  }
 ],
 "metadata": {
  "kernelspec": {
   "display_name": "Python 3 (ipykernel)",
   "language": "python",
   "name": "python3"
  },
  "language_info": {
   "codemirror_mode": {
    "name": "ipython",
    "version": 3
   },
   "file_extension": ".py",
   "mimetype": "text/x-python",
   "name": "python",
   "nbconvert_exporter": "python",
   "pygments_lexer": "ipython3",
   "version": "3.11.5"
  }
 },
 "nbformat": 4,
 "nbformat_minor": 5
}

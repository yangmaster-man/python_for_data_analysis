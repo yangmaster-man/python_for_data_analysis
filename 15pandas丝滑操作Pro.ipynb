{
 "cells": [
  {
   "cell_type": "markdown",
   "id": "9c952c33",
   "metadata": {},
   "source": [
    "Series的常用方法（max、min、mean、sum）——DataFrame常用方法\n",
    "由于其是二维数据——axis=0 or 1——沿着列或横（默认沿着轴0）"
   ]
  },
  {
   "cell_type": "markdown",
   "id": "c6f2ab6f",
   "metadata": {},
   "source": [
    "apply、applymap、describe"
   ]
  },
  {
   "cell_type": "code",
   "execution_count": 2,
   "id": "597ee058",
   "metadata": {},
   "outputs": [],
   "source": [
    "import pandas as pd"
   ]
  },
  {
   "cell_type": "code",
   "execution_count": 3,
   "id": "a733d6f8",
   "metadata": {},
   "outputs": [
    {
     "data": {
      "text/html": [
       "<div>\n",
       "<style scoped>\n",
       "    .dataframe tbody tr th:only-of-type {\n",
       "        vertical-align: middle;\n",
       "    }\n",
       "\n",
       "    .dataframe tbody tr th {\n",
       "        vertical-align: top;\n",
       "    }\n",
       "\n",
       "    .dataframe thead th {\n",
       "        text-align: right;\n",
       "    }\n",
       "</style>\n",
       "<table border=\"1\" class=\"dataframe\">\n",
       "  <thead>\n",
       "    <tr style=\"text-align: right;\">\n",
       "      <th></th>\n",
       "      <th>考试1</th>\n",
       "      <th>考试2</th>\n",
       "      <th>考试3</th>\n",
       "    </tr>\n",
       "  </thead>\n",
       "  <tbody>\n",
       "    <tr>\n",
       "      <th>001</th>\n",
       "      <td>85</td>\n",
       "      <td>95</td>\n",
       "      <td>92</td>\n",
       "    </tr>\n",
       "    <tr>\n",
       "      <th>002</th>\n",
       "      <td>91</td>\n",
       "      <td>92</td>\n",
       "      <td>94</td>\n",
       "    </tr>\n",
       "    <tr>\n",
       "      <th>003</th>\n",
       "      <td>86</td>\n",
       "      <td>81</td>\n",
       "      <td>89</td>\n",
       "    </tr>\n",
       "    <tr>\n",
       "      <th>004</th>\n",
       "      <td>79</td>\n",
       "      <td>89</td>\n",
       "      <td>95</td>\n",
       "    </tr>\n",
       "    <tr>\n",
       "      <th>005</th>\n",
       "      <td>96</td>\n",
       "      <td>91</td>\n",
       "      <td>91</td>\n",
       "    </tr>\n",
       "    <tr>\n",
       "      <th>006</th>\n",
       "      <td>81</td>\n",
       "      <td>89</td>\n",
       "      <td>92</td>\n",
       "    </tr>\n",
       "  </tbody>\n",
       "</table>\n",
       "</div>"
      ],
      "text/plain": [
       "     考试1  考试2  考试3\n",
       "001   85   95   92\n",
       "002   91   92   94\n",
       "003   86   81   89\n",
       "004   79   89   95\n",
       "005   96   91   91\n",
       "006   81   89   92"
      ]
     },
     "execution_count": 3,
     "metadata": {},
     "output_type": "execute_result"
    }
   ],
   "source": [
    "name = pd.Series([\"小陈\",\"小李\",\"小王\",\"小张\",\"小赵\",\"小周\"],index=[\"001\",\"002\",\"003\",\"004\",\"005\",\"006\"])\n",
    "s1 = pd.Series([85,91,86,79,96,81],index=[\"001\",\"002\",\"003\",\"004\",\"005\",\"006\"])\n",
    "s2 = pd.Series([95,92,81,89,91,89],index=[\"001\",\"002\",\"003\",\"004\",\"005\",\"006\"])\n",
    "s3 = pd.Series([92,94,89,95,91,92],index=[\"001\",\"002\",\"003\",\"004\",\"005\",\"006\"])\n",
    "stus=pd.DataFrame({\"考试1\":s1,\"考试2\":s2,\"考试3\":s3})\n",
    "stus"
   ]
  },
  {
   "cell_type": "code",
   "execution_count": 4,
   "id": "f31b0cdb",
   "metadata": {},
   "outputs": [
    {
     "data": {
      "text/plain": [
       "考试1    86.333333\n",
       "考试2    89.500000\n",
       "考试3    92.166667\n",
       "dtype: float64"
      ]
     },
     "execution_count": 4,
     "metadata": {},
     "output_type": "execute_result"
    }
   ],
   "source": [
    "stus.mean()"
   ]
  },
  {
   "cell_type": "code",
   "execution_count": 5,
   "id": "7585ec53",
   "metadata": {},
   "outputs": [
    {
     "data": {
      "text/plain": [
       "001    90.666667\n",
       "002    92.333333\n",
       "003    85.333333\n",
       "004    87.666667\n",
       "005    92.666667\n",
       "006    87.333333\n",
       "dtype: float64"
      ]
     },
     "execution_count": 5,
     "metadata": {},
     "output_type": "execute_result"
    }
   ],
   "source": [
    "stus.mean(axis=1)"
   ]
  },
  {
   "cell_type": "markdown",
   "id": "93c792b6",
   "metadata": {},
   "source": [
    "apply—调用函数运用"
   ]
  },
  {
   "cell_type": "code",
   "execution_count": 6,
   "id": "da4de4b3",
   "metadata": {},
   "outputs": [
    {
     "data": {
      "text/plain": [
       "001    92.0\n",
       "002    92.0\n",
       "003    86.0\n",
       "004    89.0\n",
       "005    91.0\n",
       "006    89.0\n",
       "dtype: float64"
      ]
     },
     "execution_count": 6,
     "metadata": {},
     "output_type": "execute_result"
    }
   ],
   "source": [
    "def trim_mean(data):\n",
    "    data_len = len(data)\n",
    "    data_sum = data.sum()\n",
    "    max_num = data.max()\n",
    "    min_num = data.min()\n",
    "    return (data_sum-max_num-min_num)/(data_len-2)\n",
    "stus.apply(trim_mean,axis=1)"
   ]
  },
  {
   "cell_type": "code",
   "execution_count": 7,
   "id": "78b0d745",
   "metadata": {},
   "outputs": [
    {
     "data": {
      "text/plain": [
       "考试1    85.75\n",
       "考试2    90.25\n",
       "考试3    92.25\n",
       "dtype: float64"
      ]
     },
     "execution_count": 7,
     "metadata": {},
     "output_type": "execute_result"
    }
   ],
   "source": [
    "stus.apply(trim_mean,axis=0)"
   ]
  },
  {
   "cell_type": "markdown",
   "id": "5bc01128",
   "metadata": {},
   "source": [
    "applymap方法 和 apply方法\n",
    "apply传递的是给每列和每行；applymap是运用于**每一个元素**"
   ]
  },
  {
   "cell_type": "markdown",
   "id": "99a14b09",
   "metadata": {},
   "source": [
    "同样，二者只返回值，不改变原来值"
   ]
  },
  {
   "cell_type": "code",
   "execution_count": 8,
   "id": "9e98c608",
   "metadata": {},
   "outputs": [
    {
     "data": {
      "text/html": [
       "<div>\n",
       "<style scoped>\n",
       "    .dataframe tbody tr th:only-of-type {\n",
       "        vertical-align: middle;\n",
       "    }\n",
       "\n",
       "    .dataframe tbody tr th {\n",
       "        vertical-align: top;\n",
       "    }\n",
       "\n",
       "    .dataframe thead th {\n",
       "        text-align: right;\n",
       "    }\n",
       "</style>\n",
       "<table border=\"1\" class=\"dataframe\">\n",
       "  <thead>\n",
       "    <tr style=\"text-align: right;\">\n",
       "      <th></th>\n",
       "      <th>考试1</th>\n",
       "      <th>考试2</th>\n",
       "      <th>考试3</th>\n",
       "    </tr>\n",
       "  </thead>\n",
       "  <tbody>\n",
       "    <tr>\n",
       "      <th>001</th>\n",
       "      <td>90</td>\n",
       "      <td>100</td>\n",
       "      <td>97</td>\n",
       "    </tr>\n",
       "    <tr>\n",
       "      <th>002</th>\n",
       "      <td>96</td>\n",
       "      <td>97</td>\n",
       "      <td>99</td>\n",
       "    </tr>\n",
       "    <tr>\n",
       "      <th>003</th>\n",
       "      <td>91</td>\n",
       "      <td>86</td>\n",
       "      <td>94</td>\n",
       "    </tr>\n",
       "    <tr>\n",
       "      <th>004</th>\n",
       "      <td>84</td>\n",
       "      <td>94</td>\n",
       "      <td>100</td>\n",
       "    </tr>\n",
       "    <tr>\n",
       "      <th>005</th>\n",
       "      <td>101</td>\n",
       "      <td>96</td>\n",
       "      <td>96</td>\n",
       "    </tr>\n",
       "    <tr>\n",
       "      <th>006</th>\n",
       "      <td>86</td>\n",
       "      <td>94</td>\n",
       "      <td>97</td>\n",
       "    </tr>\n",
       "  </tbody>\n",
       "</table>\n",
       "</div>"
      ],
      "text/plain": [
       "     考试1  考试2  考试3\n",
       "001   90  100   97\n",
       "002   96   97   99\n",
       "003   91   86   94\n",
       "004   84   94  100\n",
       "005  101   96   96\n",
       "006   86   94   97"
      ]
     },
     "execution_count": 8,
     "metadata": {},
     "output_type": "execute_result"
    }
   ],
   "source": [
    "stus.applymap(lambda x:x+5)"
   ]
  },
  {
   "cell_type": "markdown",
   "id": "410bc3e8",
   "metadata": {},
   "source": [
    "describe：自动忽视非数字列，只计算数字列——得到各列的基本信息\n",
    "series的describe方法：返回数字类型series的统计信息——个数、平均值、方位差等等"
   ]
  },
  {
   "cell_type": "code",
   "execution_count": 9,
   "id": "2d33ad93",
   "metadata": {},
   "outputs": [
    {
     "data": {
      "text/html": [
       "<div>\n",
       "<style scoped>\n",
       "    .dataframe tbody tr th:only-of-type {\n",
       "        vertical-align: middle;\n",
       "    }\n",
       "\n",
       "    .dataframe tbody tr th {\n",
       "        vertical-align: top;\n",
       "    }\n",
       "\n",
       "    .dataframe thead th {\n",
       "        text-align: right;\n",
       "    }\n",
       "</style>\n",
       "<table border=\"1\" class=\"dataframe\">\n",
       "  <thead>\n",
       "    <tr style=\"text-align: right;\">\n",
       "      <th></th>\n",
       "      <th>考试1</th>\n",
       "      <th>考试2</th>\n",
       "      <th>考试3</th>\n",
       "    </tr>\n",
       "  </thead>\n",
       "  <tbody>\n",
       "    <tr>\n",
       "      <th>count</th>\n",
       "      <td>6.000000</td>\n",
       "      <td>6.000000</td>\n",
       "      <td>6.000000</td>\n",
       "    </tr>\n",
       "    <tr>\n",
       "      <th>mean</th>\n",
       "      <td>86.333333</td>\n",
       "      <td>89.500000</td>\n",
       "      <td>92.166667</td>\n",
       "    </tr>\n",
       "    <tr>\n",
       "      <th>std</th>\n",
       "      <td>6.314006</td>\n",
       "      <td>4.722288</td>\n",
       "      <td>2.136976</td>\n",
       "    </tr>\n",
       "    <tr>\n",
       "      <th>min</th>\n",
       "      <td>79.000000</td>\n",
       "      <td>81.000000</td>\n",
       "      <td>89.000000</td>\n",
       "    </tr>\n",
       "    <tr>\n",
       "      <th>25%</th>\n",
       "      <td>82.000000</td>\n",
       "      <td>89.000000</td>\n",
       "      <td>91.250000</td>\n",
       "    </tr>\n",
       "    <tr>\n",
       "      <th>50%</th>\n",
       "      <td>85.500000</td>\n",
       "      <td>90.000000</td>\n",
       "      <td>92.000000</td>\n",
       "    </tr>\n",
       "    <tr>\n",
       "      <th>75%</th>\n",
       "      <td>89.750000</td>\n",
       "      <td>91.750000</td>\n",
       "      <td>93.500000</td>\n",
       "    </tr>\n",
       "    <tr>\n",
       "      <th>max</th>\n",
       "      <td>96.000000</td>\n",
       "      <td>95.000000</td>\n",
       "      <td>95.000000</td>\n",
       "    </tr>\n",
       "  </tbody>\n",
       "</table>\n",
       "</div>"
      ],
      "text/plain": [
       "             考试1        考试2        考试3\n",
       "count   6.000000   6.000000   6.000000\n",
       "mean   86.333333  89.500000  92.166667\n",
       "std     6.314006   4.722288   2.136976\n",
       "min    79.000000  81.000000  89.000000\n",
       "25%    82.000000  89.000000  91.250000\n",
       "50%    85.500000  90.000000  92.000000\n",
       "75%    89.750000  91.750000  93.500000\n",
       "max    96.000000  95.000000  95.000000"
      ]
     },
     "execution_count": 9,
     "metadata": {},
     "output_type": "execute_result"
    }
   ],
   "source": [
    "stus.describe()"
   ]
  },
  {
   "cell_type": "code",
   "execution_count": null,
   "id": "59ec3e11",
   "metadata": {},
   "outputs": [],
   "source": []
  }
 ],
 "metadata": {
  "kernelspec": {
   "display_name": "Python 3 (ipykernel)",
   "language": "python",
   "name": "python3"
  },
  "language_info": {
   "codemirror_mode": {
    "name": "ipython",
    "version": 3
   },
   "file_extension": ".py",
   "mimetype": "text/x-python",
   "name": "python",
   "nbconvert_exporter": "python",
   "pygments_lexer": "ipython3",
   "version": "3.11.5"
  }
 },
 "nbformat": 4,
 "nbformat_minor": 5
}
